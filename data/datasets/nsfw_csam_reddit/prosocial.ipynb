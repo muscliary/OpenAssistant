{
 "cells": [
  {
   "cell_type": "code",
   "execution_count": null,
   "id": "01d7fb38",
   "metadata": {},
   "outputs": [],
   "source": [
    "from datasets import load_dataset\n",
    "import json\n",
    "import pandas as pd\n",
    "import numpy as np\n",
    "from sentence_transformers import SentenceTransformer\n",
    "SBERT_MODEL = \"all-MiniLM-L6-v2\"\n",
    "from collections import Counter\n",
    "import nltk\n",
    "import re\n",
    "from nltk import sent_tokenize"
   ]
  },
  {
   "cell_type": "code",
   "execution_count": null,
   "id": "e2cfde3e",
   "metadata": {},
   "outputs": [],
   "source": [
    "nsfw_dataset = load_dataset(\"jjmachan/NSFW-questions\",split=\"train\")\n",
    "pro_social_dataset = load_dataset(\"allenai/prosocial-dialog\",split=\"train\")"
   ]
  },
  {
   "cell_type": "code",
   "execution_count": null,
   "id": "b152f61a",
   "metadata": {},
   "outputs": [],
   "source": [
    "def match_rot_safetylabels(dataset):\n",
    "    rots = [item[\"rots\"] for item in dataset]\n",
    "    safety_annotations = [item[\"safety_label\"] for item in dataset]\n",
    "    results = {}\n",
    "    for rots, sfty in zip(rots, safety_annotations):\n",
    "        for rot in rots:\n",
    "            if rot not in results.keys():\n",
    "                results[rot] = sfty\n",
    "    return results"
   ]
  },
  {
   "cell_type": "code",
   "execution_count": null,
   "id": "7ce533e2",
   "metadata": {},
   "outputs": [],
   "source": [
    "rot_sfty = match_rot_safetylabels(pro_social_dataset)\n",
    "all_rots = list(set(rot_sfty.keys()))"
   ]
  },
  {
   "cell_type": "code",
   "execution_count": null,
   "id": "81ae7140",
   "metadata": {},
   "outputs": [],
   "source": [
    "def load_vectorizer(model=SBERT_MODEL):\n",
    "    return SentenceTransformer(model)\n",
    "\n",
    "\n",
    "def vectorize_text(model, texts):\n",
    "    return model.encode(texts, show_progress_bar=True)\n"
   ]
  },
  {
   "cell_type": "code",
   "execution_count": null,
   "id": "057a2bb7",
   "metadata": {},
   "outputs": [],
   "source": [
    "model = load_vectorizer()\n"
   ]
  },
  {
   "cell_type": "code",
   "execution_count": null,
   "id": "efb4be19",
   "metadata": {},
   "outputs": [],
   "source": [
    "rot_vector = vectorize_text(model,all_rots)\n"
   ]
  }
 ],
 "metadata": {
  "kernelspec": {
   "display_name": "OpenAssistant",
   "language": "python",
   "name": "openassistant"
  },
  "language_info": {
   "codemirror_mode": {
    "name": "ipython",
    "version": 3
   },
   "file_extension": ".py",
   "mimetype": "text/x-python",
   "name": "python",
   "nbconvert_exporter": "python",
   "pygments_lexer": "ipython3",
   "version": "3.10.8"
  }
 },
 "nbformat": 4,
 "nbformat_minor": 5
}
