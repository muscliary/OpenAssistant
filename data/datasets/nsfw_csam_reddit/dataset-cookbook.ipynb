{
 "cells": [
  {
   "cell_type": "code",
   "execution_count": null,
   "id": "9712d786",
   "metadata": {},
   "outputs": [],
   "source": [
    "# autoreload\n",
    "%load_ext autoreload\n",
    "%autoreload 2"
   ]
  },
  {
   "cell_type": "code",
   "execution_count": null,
   "id": "a4d7ff82",
   "metadata": {},
   "outputs": [],
   "source": [
    "import praw\n",
    "import prawcore\n",
    "from bs4 import BeautifulSoup as bs\n",
    "import pandas as pd\n",
    "from tqdm import tqdm\n",
    "import pickle\n",
    "from random import sample, choice\n",
    "import concurrent.futures"
   ]
  },
  {
   "cell_type": "markdown",
   "id": "8f191d54",
   "metadata": {},
   "source": [
    "# List of subreddits to scrape\n",
    "\n",
    "this list was build from https://anvaka.github.io/redsim. Can be used to expand the list of favourable subreddits.\n",
    "\n",
    "takeing these for now"
   ]
  },
  {
   "cell_type": "code",
   "execution_count": null,
   "id": "4d83189c",
   "metadata": {},
   "outputs": [],
   "source": [
    "subs = [\"Sexpolls\",\n",
    "\"sexpositions\",\n",
    "\"Sexconfessional\",\n",
    "\"penissize\",\n",
    "\"masturbation\",\n",
    "\"AskRedditNSFW\",\n",
    "\"sexstories\",\n",
    "\"SexFantasies\",\n",
    "\"sexconfession\",\n",
    "\"askwoman_aboutsex\",\n",
    "\"sextips\",\n",
    "\"sexualhealth\",\n",
    "\"SexPositive\",\n",
    "\"DirtyConfession\",\n",
    "\"Puberty\",\n",
    "\"NSFWIAMA\",\n",
    "\"sexover30\",\n",
    "\"SexToys\",\n",
    "\"sexquestions\",\n",
    "\"deepvaginaproblems\",\n",
    "\"kegels\",\n",
    "\"sexeducation\",\n",
    "\"ColoredLang\",\n",
    "\"masterbationstories\",\n",
    "\"RedditAfterDark\",\n",
    "\"Threesome_advice\",\n",
    "]\n",
    "\n",
    "# \"NSFWIAMA\" -> special one (TODO f)"
   ]
  },
  {
   "cell_type": "markdown",
   "id": "f34c31f0",
   "metadata": {},
   "source": [
    "# Scrap these Subreddits"
   ]
  },
  {
   "cell_type": "code",
   "execution_count": null,
   "id": "3e2ff9cb",
   "metadata": {},
   "outputs": [],
   "source": [
    "from utils import scrap_subreddit, init_praw_reddit, save_to_huggingface\n"
   ]
  },
  {
   "cell_type": "code",
   "execution_count": null,
   "id": "8507c27e",
   "metadata": {},
   "outputs": [],
   "source": [
    "reddit = init_praw_reddit()\n",
    "\n",
    "# loop through subreddits and save to an intermediate folder\n",
    "for sub in tqdm(subs):\n",
    "    try:\n",
    "        df = scrape_subreddit(sub, reddit)\n",
    "        if df is not None:\n",
    "            file_name = f\"dataframes/{sub}.csv\"\n",
    "            df.to_csv(file_name, index=False)\n",
    "            print(\"subreddit saved to: \", file_name)\n",
    "    except Exception as e:\n",
    "        logger.error(f\"Error scraping {sub}: {e}\")\n"
   ]
  },
  {
   "cell_type": "code",
   "execution_count": null,
   "id": "56ae9ee8",
   "metadata": {},
   "outputs": [],
   "source": [
    "import os\n",
    "\n",
    "# clean the results\n",
    "files = os.listdir(\"dataframes/\")\n",
    "dfs = []\n",
    "for file in files:\n",
    "    df = pd.read_csv(f\"dataframes/{file}\")\n",
    "    dfs.append(df[df['is_question'] & df['is_self']])\n",
    "    \n",
    "cleaned_df = pd.concat(dfs)\n",
    "print(cleaned_df.shape, cleaned_df['subreddit'].value_counts())"
   ]
  },
  {
   "cell_type": "code",
   "execution_count": 46,
   "id": "c90aca1c",
   "metadata": {},
   "outputs": [
    {
     "name": "stdout",
     "output_type": "stream",
     "text": [
      "Downloading and preparing dataset json/default to /home/jjmachan/.cache/huggingface/datasets/json/default-9433ebf74f6f4bdb/0.0.0/0f7e3662623656454fcd2b650f34e886a7db4b9104504885bd462096cc7a9f51...\n"
     ]
    },
    {
     "data": {
      "application/vnd.jupyter.widget-view+json": {
       "model_id": "b626ca7617204ce08f24581a66c91ee2",
       "version_major": 2,
       "version_minor": 0
      },
      "text/plain": [
       "Downloading data files:   0%|          | 0/1 [00:00<?, ?it/s]"
      ]
     },
     "metadata": {},
     "output_type": "display_data"
    },
    {
     "data": {
      "application/vnd.jupyter.widget-view+json": {
       "model_id": "806b00cb90e243d1935508a45a039642",
       "version_major": 2,
       "version_minor": 0
      },
      "text/plain": [
       "Extracting data files:   0%|          | 0/1 [00:00<?, ?it/s]"
      ]
     },
     "metadata": {},
     "output_type": "display_data"
    },
    {
     "data": {
      "application/vnd.jupyter.widget-view+json": {
       "model_id": "",
       "version_major": 2,
       "version_minor": 0
      },
      "text/plain": [
       "Generating train split: 0 examples [00:00, ? examples/s]"
      ]
     },
     "metadata": {},
     "output_type": "display_data"
    },
    {
     "name": "stdout",
     "output_type": "stream",
     "text": [
      "Dataset json downloaded and prepared to /home/jjmachan/.cache/huggingface/datasets/json/default-9433ebf74f6f4bdb/0.0.0/0f7e3662623656454fcd2b650f34e886a7db4b9104504885bd462096cc7a9f51. Subsequent calls will reuse this data.\n"
     ]
    },
    {
     "data": {
      "application/vnd.jupyter.widget-view+json": {
       "model_id": "857341544c4c42a1bac2a23797613f66",
       "version_major": 2,
       "version_minor": 0
      },
      "text/plain": [
       "  0%|          | 0/1 [00:00<?, ?it/s]"
      ]
     },
     "metadata": {},
     "output_type": "display_data"
    },
    {
     "name": "stderr",
     "output_type": "stream",
     "text": [
      "Pushing split train to the Hub.\n"
     ]
    },
    {
     "data": {
      "application/vnd.jupyter.widget-view+json": {
       "model_id": "122619576a37463f97d1189491823b0b",
       "version_major": 2,
       "version_minor": 0
      },
      "text/plain": [
       "Pushing dataset shards to the dataset hub:   0%|          | 0/1 [00:00<?, ?it/s]"
      ]
     },
     "metadata": {},
     "output_type": "display_data"
    },
    {
     "data": {
      "application/vnd.jupyter.widget-view+json": {
       "model_id": "e77487d84f824c8aaedfaf1d31acaf52",
       "version_major": 2,
       "version_minor": 0
      },
      "text/plain": [
       "Creating parquet from Arrow format:   0%|          | 0/13 [00:00<?, ?ba/s]"
      ]
     },
     "metadata": {},
     "output_type": "display_data"
    }
   ],
   "source": [
    "save_to_huggingface(cleaned_df, name=\"jjmachan/NSFW-questions-inter-cleaned_df\")"
   ]
  },
  {
   "cell_type": "markdown",
   "id": "11e7546e",
   "metadata": {},
   "source": [
    "# Filter with prosocial\n",
    "\n",
    "<explain what is done @shahul>"
   ]
  },
  {
   "cell_type": "code",
   "execution_count": null,
   "id": "bcf30dbb",
   "metadata": {},
   "outputs": [],
   "source": []
  },
  {
   "cell_type": "markdown",
   "id": "bd5bb6b2",
   "metadata": {},
   "source": [
    "# Get Comments"
   ]
  },
  {
   "cell_type": "code",
   "execution_count": null,
   "id": "e81c6432",
   "metadata": {},
   "outputs": [],
   "source": [
    "get_comments(cleaned_df['post_id']"
   ]
  },
  {
   "cell_type": "code",
   "execution_count": 42,
   "id": "5bb39fe6",
   "metadata": {},
   "outputs": [
    {
     "name": "stdout",
     "output_type": "stream",
     "text": [
      "(12269, 14) (1442, 6) (1442, 14)\n"
     ]
    }
   ],
   "source": [
    "nsfw_with_comments = pd.read_csv(\"df_with_comments.csv\").drop_duplicates(subset=[\"post_id\"])\n",
    "nsfw = pd.read_csv(\"nsfw.csv\").drop_duplicates(subset=[\"post_id\"])\n",
    "nsfw_final = pd.merge(nsfw.drop(columns=[f\"C{i+1}\" for i in range(5)]), nsfw_with_comments, on=\"post_id\")\n",
    "print(nsfw.shape, nsfw_with_comments.shape, nsfw_final.shape)"
   ]
  },
  {
   "cell_type": "code",
   "execution_count": 44,
   "id": "722d42ff",
   "metadata": {},
   "outputs": [
    {
     "data": {
      "text/html": [
       "<div>\n",
       "<style scoped>\n",
       "    .dataframe tbody tr th:only-of-type {\n",
       "        vertical-align: middle;\n",
       "    }\n",
       "\n",
       "    .dataframe tbody tr th {\n",
       "        vertical-align: top;\n",
       "    }\n",
       "\n",
       "    .dataframe thead th {\n",
       "        text-align: right;\n",
       "    }\n",
       "</style>\n",
       "<table border=\"1\" class=\"dataframe\">\n",
       "  <thead>\n",
       "    <tr style=\"text-align: right;\">\n",
       "      <th></th>\n",
       "      <th>title</th>\n",
       "      <th>subreddit</th>\n",
       "      <th>post_id</th>\n",
       "      <th>score</th>\n",
       "      <th>link_flair_text</th>\n",
       "      <th>is_self</th>\n",
       "      <th>over_18</th>\n",
       "      <th>upvote_ratio</th>\n",
       "      <th>is_question</th>\n",
       "      <th>C1</th>\n",
       "      <th>C2</th>\n",
       "      <th>C3</th>\n",
       "      <th>C4</th>\n",
       "      <th>C5</th>\n",
       "    </tr>\n",
       "  </thead>\n",
       "  <tbody>\n",
       "    <tr>\n",
       "      <th>920</th>\n",
       "      <td>How safe are condoms?</td>\n",
       "      <td>sexeducation</td>\n",
       "      <td>o610pr</td>\n",
       "      <td>12</td>\n",
       "      <td>NaN</td>\n",
       "      <td>True</td>\n",
       "      <td>False</td>\n",
       "      <td>1.00</td>\n",
       "      <td>True</td>\n",
       "      <td>Hey love, it's great that you're being careful...</td>\n",
       "      <td>Well, I’ve never had sex, so I can’t say for s...</td>\n",
       "      <td>Hi Ppweewee69!\\n\\nWe've got the effectiveness ...</td>\n",
       "      <td>Condoms are over 98% effective when used CORRE...</td>\n",
       "      <td>They are mainly safe, just have to watch a tut...</td>\n",
       "    </tr>\n",
       "    <tr>\n",
       "      <th>477</th>\n",
       "      <td>how do foot fetishes work for women?</td>\n",
       "      <td>sexquestions</td>\n",
       "      <td>11euqxe</td>\n",
       "      <td>1</td>\n",
       "      <td>Kinks/Fetishes</td>\n",
       "      <td>True</td>\n",
       "      <td>True</td>\n",
       "      <td>1.00</td>\n",
       "      <td>True</td>\n",
       "      <td>How do they work for men? Not being sassy, I m...</td>\n",
       "      <td>NaN</td>\n",
       "      <td>NaN</td>\n",
       "      <td>NaN</td>\n",
       "      <td>NaN</td>\n",
       "    </tr>\n",
       "    <tr>\n",
       "      <th>248</th>\n",
       "      <td>Would you be a sugar daddy without having sex ...</td>\n",
       "      <td>AskRedditNSFW</td>\n",
       "      <td>118q7zy</td>\n",
       "      <td>2</td>\n",
       "      <td>NaN</td>\n",
       "      <td>True</td>\n",
       "      <td>True</td>\n",
       "      <td>1.00</td>\n",
       "      <td>True</td>\n",
       "      <td>That she would dress the way I wanted. That's ...</td>\n",
       "      <td>Hell nah</td>\n",
       "      <td>Yes! She would need to come over and hang out ...</td>\n",
       "      <td>Terms</td>\n",
       "      <td>NaN</td>\n",
       "    </tr>\n",
       "    <tr>\n",
       "      <th>305</th>\n",
       "      <td>Men and women : Since rape is an act of violen...</td>\n",
       "      <td>AskRedditNSFW</td>\n",
       "      <td>lr3ssd</td>\n",
       "      <td>25</td>\n",
       "      <td>NaN</td>\n",
       "      <td>True</td>\n",
       "      <td>True</td>\n",
       "      <td>0.90</td>\n",
       "      <td>True</td>\n",
       "      <td>The other comments answered this pretty well, ...</td>\n",
       "      <td>The idea behind rape fantasies is that of powe...</td>\n",
       "      <td>Thank you for the explanations.  I now underst...</td>\n",
       "      <td>It's about control as a dynamic of BDSM. Rape ...</td>\n",
       "      <td>it doesn't have to be about hate, it can also ...</td>\n",
       "    </tr>\n",
       "    <tr>\n",
       "      <th>1144</th>\n",
       "      <td>Coping through birthday?</td>\n",
       "      <td>depression</td>\n",
       "      <td>11hmrxc</td>\n",
       "      <td>1</td>\n",
       "      <td>NaN</td>\n",
       "      <td>True</td>\n",
       "      <td>False</td>\n",
       "      <td>1.00</td>\n",
       "      <td>True</td>\n",
       "      <td>NaN</td>\n",
       "      <td>NaN</td>\n",
       "      <td>NaN</td>\n",
       "      <td>NaN</td>\n",
       "      <td>NaN</td>\n",
       "    </tr>\n",
       "    <tr>\n",
       "      <th>669</th>\n",
       "      <td>Article: \"Why Are Young People Having So Littl...</td>\n",
       "      <td>sexover30</td>\n",
       "      <td>9y3ris</td>\n",
       "      <td>123</td>\n",
       "      <td>NaN</td>\n",
       "      <td>True</td>\n",
       "      <td>True</td>\n",
       "      <td>0.94</td>\n",
       "      <td>True</td>\n",
       "      <td>I think how much human interaction has been re...</td>\n",
       "      <td>Fascinating read, thanks so much for posting! ...</td>\n",
       "      <td>I read this yesterday, and I’ve been mulling o...</td>\n",
       "      <td>The article weighs in at almost 15,000 words. ...</td>\n",
       "      <td>I think kids and work play far more into it th...</td>\n",
       "    </tr>\n",
       "    <tr>\n",
       "      <th>899</th>\n",
       "      <td>Why do we have kinks and fetishes</td>\n",
       "      <td>sexeducation</td>\n",
       "      <td>czdanh</td>\n",
       "      <td>20</td>\n",
       "      <td>NaN</td>\n",
       "      <td>True</td>\n",
       "      <td>False</td>\n",
       "      <td>1.00</td>\n",
       "      <td>True</td>\n",
       "      <td>There is some science on why but I dont know a...</td>\n",
       "      <td>That's a great question. Would love to read up...</td>\n",
       "      <td>NaN</td>\n",
       "      <td>NaN</td>\n",
       "      <td>NaN</td>\n",
       "    </tr>\n",
       "    <tr>\n",
       "      <th>336</th>\n",
       "      <td>is having a rape fantasy bad??</td>\n",
       "      <td>SexFantasies</td>\n",
       "      <td>or04sb</td>\n",
       "      <td>19</td>\n",
       "      <td>NaN</td>\n",
       "      <td>True</td>\n",
       "      <td>True</td>\n",
       "      <td>0.95</td>\n",
       "      <td>True</td>\n",
       "      <td>No, it isn’t ….🥵</td>\n",
       "      <td>I don't think it's bad, I have this fantasy al...</td>\n",
       "      <td>its a cnc kink, very common</td>\n",
       "      <td>No, not at all!</td>\n",
       "      <td>I am f also and have that fantasy! &lt;3 You're n...</td>\n",
       "    </tr>\n",
       "    <tr>\n",
       "      <th>189</th>\n",
       "      <td>What are your fantasies?</td>\n",
       "      <td>AskRedditNSFW</td>\n",
       "      <td>11hf12m</td>\n",
       "      <td>2</td>\n",
       "      <td>NaN</td>\n",
       "      <td>True</td>\n",
       "      <td>True</td>\n",
       "      <td>1.00</td>\n",
       "      <td>True</td>\n",
       "      <td>Being a nude competitive swimmer or a nude art...</td>\n",
       "      <td>I absolutely love being a free use fuck toy!</td>\n",
       "      <td>Have sex with multiple men as it's steamed glo...</td>\n",
       "      <td>I would be smitten with a room full of men pas...</td>\n",
       "      <td>To receive boob pics from women online 🤣😎</td>\n",
       "    </tr>\n",
       "    <tr>\n",
       "      <th>902</th>\n",
       "      <td>Can I be pregnant?</td>\n",
       "      <td>sexeducation</td>\n",
       "      <td>mtdnqf</td>\n",
       "      <td>16</td>\n",
       "      <td>NaN</td>\n",
       "      <td>True</td>\n",
       "      <td>False</td>\n",
       "      <td>0.94</td>\n",
       "      <td>True</td>\n",
       "      <td>It sounds like you were extra careful, if you ...</td>\n",
       "      <td>Pull out is not a safe way since som sperm cum...</td>\n",
       "      <td>It doesn't sound like you have anything to wor...</td>\n",
       "      <td>NaN</td>\n",
       "      <td>NaN</td>\n",
       "    </tr>\n",
       "    <tr>\n",
       "      <th>1265</th>\n",
       "      <td>I am at such a loss at how to reestablish clos...</td>\n",
       "      <td>depression</td>\n",
       "      <td>11gezgq</td>\n",
       "      <td>1</td>\n",
       "      <td>NaN</td>\n",
       "      <td>True</td>\n",
       "      <td>False</td>\n",
       "      <td>1.00</td>\n",
       "      <td>False</td>\n",
       "      <td>NaN</td>\n",
       "      <td>NaN</td>\n",
       "      <td>NaN</td>\n",
       "      <td>NaN</td>\n",
       "      <td>NaN</td>\n",
       "    </tr>\n",
       "    <tr>\n",
       "      <th>242</th>\n",
       "      <td>What’s another name for an asshole?</td>\n",
       "      <td>AskRedditNSFW</td>\n",
       "      <td>119l89l</td>\n",
       "      <td>4</td>\n",
       "      <td>NaN</td>\n",
       "      <td>True</td>\n",
       "      <td>True</td>\n",
       "      <td>1.00</td>\n",
       "      <td>True</td>\n",
       "      <td>Dad</td>\n",
       "      <td>u/becusiwantto\\n\\nLol sorry. It was just too e...</td>\n",
       "      <td>Balloon knot</td>\n",
       "      <td>If you’re Squirrelly Dan, it’s a buttshole</td>\n",
       "      <td>Brown eye....\\n\\nChocolate starfish...</td>\n",
       "    </tr>\n",
       "    <tr>\n",
       "      <th>1235</th>\n",
       "      <td>What are some ways to feel safe and comfortable?</td>\n",
       "      <td>depression</td>\n",
       "      <td>11gq9pl</td>\n",
       "      <td>1</td>\n",
       "      <td>NaN</td>\n",
       "      <td>True</td>\n",
       "      <td>False</td>\n",
       "      <td>1.00</td>\n",
       "      <td>True</td>\n",
       "      <td>NaN</td>\n",
       "      <td>NaN</td>\n",
       "      <td>NaN</td>\n",
       "      <td>NaN</td>\n",
       "      <td>NaN</td>\n",
       "    </tr>\n",
       "    <tr>\n",
       "      <th>8</th>\n",
       "      <td>Is This Safe?</td>\n",
       "      <td>SexToys</td>\n",
       "      <td>119ojpk</td>\n",
       "      <td>13</td>\n",
       "      <td>First Toy</td>\n",
       "      <td>True</td>\n",
       "      <td>True</td>\n",
       "      <td>1.00</td>\n",
       "      <td>True</td>\n",
       "      <td>I work in sex toy retail, never have I ever se...</td>\n",
       "      <td>I wouldn't buy any plug where the flared base ...</td>\n",
       "      <td>Yes, definitely avoid anything with a small ba...</td>\n",
       "      <td>You want to avoid small bases (bases the same ...</td>\n",
       "      <td>Hey man! I replied to your butt plug post. Whe...</td>\n",
       "    </tr>\n",
       "    <tr>\n",
       "      <th>1367</th>\n",
       "      <td>Anxiety is a bitch</td>\n",
       "      <td>depression</td>\n",
       "      <td>11fhb06</td>\n",
       "      <td>1</td>\n",
       "      <td>NaN</td>\n",
       "      <td>True</td>\n",
       "      <td>False</td>\n",
       "      <td>1.00</td>\n",
       "      <td>False</td>\n",
       "      <td>NaN</td>\n",
       "      <td>NaN</td>\n",
       "      <td>NaN</td>\n",
       "      <td>NaN</td>\n",
       "      <td>NaN</td>\n",
       "    </tr>\n",
       "  </tbody>\n",
       "</table>\n",
       "</div>"
      ],
      "text/plain": [
       "                                                  title      subreddit  \\\n",
       "920                               How safe are condoms?   sexeducation   \n",
       "477                how do foot fetishes work for women?   sexquestions   \n",
       "248   Would you be a sugar daddy without having sex ...  AskRedditNSFW   \n",
       "305   Men and women : Since rape is an act of violen...  AskRedditNSFW   \n",
       "1144                           Coping through birthday?     depression   \n",
       "669   Article: \"Why Are Young People Having So Littl...      sexover30   \n",
       "899                   Why do we have kinks and fetishes   sexeducation   \n",
       "336                      is having a rape fantasy bad??   SexFantasies   \n",
       "189                            What are your fantasies?  AskRedditNSFW   \n",
       "902                                  Can I be pregnant?   sexeducation   \n",
       "1265  I am at such a loss at how to reestablish clos...     depression   \n",
       "242                 What’s another name for an asshole?  AskRedditNSFW   \n",
       "1235   What are some ways to feel safe and comfortable?     depression   \n",
       "8                                         Is This Safe?        SexToys   \n",
       "1367                                 Anxiety is a bitch     depression   \n",
       "\n",
       "      post_id  score link_flair_text  is_self  over_18  upvote_ratio  \\\n",
       "920    o610pr     12             NaN     True    False          1.00   \n",
       "477   11euqxe      1  Kinks/Fetishes     True     True          1.00   \n",
       "248   118q7zy      2             NaN     True     True          1.00   \n",
       "305    lr3ssd     25             NaN     True     True          0.90   \n",
       "1144  11hmrxc      1             NaN     True    False          1.00   \n",
       "669    9y3ris    123             NaN     True     True          0.94   \n",
       "899    czdanh     20             NaN     True    False          1.00   \n",
       "336    or04sb     19             NaN     True     True          0.95   \n",
       "189   11hf12m      2             NaN     True     True          1.00   \n",
       "902    mtdnqf     16             NaN     True    False          0.94   \n",
       "1265  11gezgq      1             NaN     True    False          1.00   \n",
       "242   119l89l      4             NaN     True     True          1.00   \n",
       "1235  11gq9pl      1             NaN     True    False          1.00   \n",
       "8     119ojpk     13       First Toy     True     True          1.00   \n",
       "1367  11fhb06      1             NaN     True    False          1.00   \n",
       "\n",
       "      is_question                                                 C1  \\\n",
       "920          True  Hey love, it's great that you're being careful...   \n",
       "477          True  How do they work for men? Not being sassy, I m...   \n",
       "248          True  That she would dress the way I wanted. That's ...   \n",
       "305          True  The other comments answered this pretty well, ...   \n",
       "1144         True                                                NaN   \n",
       "669          True  I think how much human interaction has been re...   \n",
       "899          True  There is some science on why but I dont know a...   \n",
       "336          True                                   No, it isn’t ….🥵   \n",
       "189          True  Being a nude competitive swimmer or a nude art...   \n",
       "902          True  It sounds like you were extra careful, if you ...   \n",
       "1265        False                                                NaN   \n",
       "242          True                                                Dad   \n",
       "1235         True                                                NaN   \n",
       "8            True  I work in sex toy retail, never have I ever se...   \n",
       "1367        False                                                NaN   \n",
       "\n",
       "                                                     C2  \\\n",
       "920   Well, I’ve never had sex, so I can’t say for s...   \n",
       "477                                                 NaN   \n",
       "248                                            Hell nah   \n",
       "305   The idea behind rape fantasies is that of powe...   \n",
       "1144                                                NaN   \n",
       "669   Fascinating read, thanks so much for posting! ...   \n",
       "899   That's a great question. Would love to read up...   \n",
       "336   I don't think it's bad, I have this fantasy al...   \n",
       "189        I absolutely love being a free use fuck toy!   \n",
       "902   Pull out is not a safe way since som sperm cum...   \n",
       "1265                                                NaN   \n",
       "242   u/becusiwantto\\n\\nLol sorry. It was just too e...   \n",
       "1235                                                NaN   \n",
       "8     I wouldn't buy any plug where the flared base ...   \n",
       "1367                                                NaN   \n",
       "\n",
       "                                                     C3  \\\n",
       "920   Hi Ppweewee69!\\n\\nWe've got the effectiveness ...   \n",
       "477                                                 NaN   \n",
       "248   Yes! She would need to come over and hang out ...   \n",
       "305   Thank you for the explanations.  I now underst...   \n",
       "1144                                                NaN   \n",
       "669   I read this yesterday, and I’ve been mulling o...   \n",
       "899                                                 NaN   \n",
       "336                         its a cnc kink, very common   \n",
       "189   Have sex with multiple men as it's steamed glo...   \n",
       "902   It doesn't sound like you have anything to wor...   \n",
       "1265                                                NaN   \n",
       "242                                        Balloon knot   \n",
       "1235                                                NaN   \n",
       "8     Yes, definitely avoid anything with a small ba...   \n",
       "1367                                                NaN   \n",
       "\n",
       "                                                     C4  \\\n",
       "920   Condoms are over 98% effective when used CORRE...   \n",
       "477                                                 NaN   \n",
       "248                                               Terms   \n",
       "305   It's about control as a dynamic of BDSM. Rape ...   \n",
       "1144                                                NaN   \n",
       "669   The article weighs in at almost 15,000 words. ...   \n",
       "899                                                 NaN   \n",
       "336                                     No, not at all!   \n",
       "189   I would be smitten with a room full of men pas...   \n",
       "902                                                 NaN   \n",
       "1265                                                NaN   \n",
       "242          If you’re Squirrelly Dan, it’s a buttshole   \n",
       "1235                                                NaN   \n",
       "8     You want to avoid small bases (bases the same ...   \n",
       "1367                                                NaN   \n",
       "\n",
       "                                                     C5  \n",
       "920   They are mainly safe, just have to watch a tut...  \n",
       "477                                                 NaN  \n",
       "248                                                 NaN  \n",
       "305   it doesn't have to be about hate, it can also ...  \n",
       "1144                                                NaN  \n",
       "669   I think kids and work play far more into it th...  \n",
       "899                                                 NaN  \n",
       "336   I am f also and have that fantasy! <3 You're n...  \n",
       "189           To receive boob pics from women online 🤣😎  \n",
       "902                                                 NaN  \n",
       "1265                                                NaN  \n",
       "242              Brown eye....\\n\\nChocolate starfish...  \n",
       "1235                                                NaN  \n",
       "8     Hey man! I replied to your butt plug post. Whe...  \n",
       "1367                                                NaN  "
      ]
     },
     "execution_count": 44,
     "metadata": {},
     "output_type": "execute_result"
    }
   ],
   "source": [
    "nsfw_final.sample(15)"
   ]
  },
  {
   "cell_type": "markdown",
   "id": "cb0c2ff4",
   "metadata": {},
   "source": [
    "# Save to Huggingface"
   ]
  },
  {
   "cell_type": "code",
   "execution_count": 40,
   "id": "44d44cc1",
   "metadata": {},
   "outputs": [
    {
     "name": "stdout",
     "output_type": "stream",
     "text": [
      "Downloading and preparing dataset json/default to /home/jjmachan/.cache/huggingface/datasets/json/default-424060f196a2282b/0.0.0/0f7e3662623656454fcd2b650f34e886a7db4b9104504885bd462096cc7a9f51...\n"
     ]
    },
    {
     "data": {
      "application/vnd.jupyter.widget-view+json": {
       "model_id": "e4f0e24800d84b779251d47e728d8c38",
       "version_major": 2,
       "version_minor": 0
      },
      "text/plain": [
       "Downloading data files:   0%|          | 0/1 [00:00<?, ?it/s]"
      ]
     },
     "metadata": {},
     "output_type": "display_data"
    },
    {
     "data": {
      "application/vnd.jupyter.widget-view+json": {
       "model_id": "a40c813b9b8f4553bdc5d0b0627ffbf6",
       "version_major": 2,
       "version_minor": 0
      },
      "text/plain": [
       "Extracting data files:   0%|          | 0/1 [00:00<?, ?it/s]"
      ]
     },
     "metadata": {},
     "output_type": "display_data"
    },
    {
     "data": {
      "application/vnd.jupyter.widget-view+json": {
       "model_id": "",
       "version_major": 2,
       "version_minor": 0
      },
      "text/plain": [
       "Generating train split: 0 examples [00:00, ? examples/s]"
      ]
     },
     "metadata": {},
     "output_type": "display_data"
    },
    {
     "name": "stdout",
     "output_type": "stream",
     "text": [
      "Dataset json downloaded and prepared to /home/jjmachan/.cache/huggingface/datasets/json/default-424060f196a2282b/0.0.0/0f7e3662623656454fcd2b650f34e886a7db4b9104504885bd462096cc7a9f51. Subsequent calls will reuse this data.\n"
     ]
    },
    {
     "data": {
      "application/vnd.jupyter.widget-view+json": {
       "model_id": "f1de786d57c840f3948a75335a5472cf",
       "version_major": 2,
       "version_minor": 0
      },
      "text/plain": [
       "  0%|          | 0/1 [00:00<?, ?it/s]"
      ]
     },
     "metadata": {},
     "output_type": "display_data"
    },
    {
     "name": "stderr",
     "output_type": "stream",
     "text": [
      "Pushing split train to the Hub.\n"
     ]
    },
    {
     "data": {
      "application/vnd.jupyter.widget-view+json": {
       "model_id": "c703b1721fa8405092cec72399712f2a",
       "version_major": 2,
       "version_minor": 0
      },
      "text/plain": [
       "Pushing dataset shards to the dataset hub:   0%|          | 0/1 [00:00<?, ?it/s]"
      ]
     },
     "metadata": {},
     "output_type": "display_data"
    },
    {
     "data": {
      "application/vnd.jupyter.widget-view+json": {
       "model_id": "06865da3d5324a95ab32c4f78de0cf4f",
       "version_major": 2,
       "version_minor": 0
      },
      "text/plain": [
       "Creating parquet from Arrow format:   0%|          | 0/2 [00:00<?, ?ba/s]"
      ]
     },
     "metadata": {},
     "output_type": "display_data"
    },
    {
     "data": {
      "application/vnd.jupyter.widget-view+json": {
       "model_id": "146ab5efdf7343ab9ad8f3bc93a0ffaa",
       "version_major": 2,
       "version_minor": 0
      },
      "text/plain": [
       "Deleting unused files from dataset repository:   0%|          | 0/1 [00:00<?, ?it/s]"
      ]
     },
     "metadata": {},
     "output_type": "display_data"
    }
   ],
   "source": [
    "from utils import save_to_huggingface\n",
    "\n",
    "save_to_huggingface(nsfw_final, name=\"jjmachan/NSFW-questions\")"
   ]
  }
 ],
 "metadata": {
  "kernelspec": {
   "display_name": "Python 3 (ipykernel)",
   "language": "python",
   "name": "python3"
  },
  "language_info": {
   "codemirror_mode": {
    "name": "ipython",
    "version": 3
   },
   "file_extension": ".py",
   "mimetype": "text/x-python",
   "name": "python",
   "nbconvert_exporter": "python",
   "pygments_lexer": "ipython3",
   "version": "3.10.9"
  }
 },
 "nbformat": 4,
 "nbformat_minor": 5
}
